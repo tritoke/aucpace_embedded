{
 "cells": [
  {
   "cell_type": "code",
   "execution_count": 1,
   "id": "499acb9a",
   "metadata": {},
   "outputs": [],
   "source": [
    "import numpy as np\n",
    "import pandas as pd\n",
    "import matplotlib.pyplot as plt"
   ]
  },
  {
   "cell_type": "code",
   "execution_count": 2,
   "id": "ea9ad864",
   "metadata": {},
   "outputs": [
    {
     "data": {
      "text/html": [
       "<div>\n",
       "<style scoped>\n",
       "    .dataframe tbody tr th:only-of-type {\n",
       "        vertical-align: middle;\n",
       "    }\n",
       "\n",
       "    .dataframe tbody tr th {\n",
       "        vertical-align: top;\n",
       "    }\n",
       "\n",
       "    .dataframe thead th {\n",
       "        text-align: right;\n",
       "    }\n",
       "</style>\n",
       "<table border=\"1\" class=\"dataframe\">\n",
       "  <thead>\n",
       "    <tr style=\"text-align: right;\">\n",
       "      <th></th>\n",
       "      <th>profile</th>\n",
       "      <th>static_ssid</th>\n",
       "      <th>strong</th>\n",
       "      <th>implicit</th>\n",
       "      <th>partial</th>\n",
       "      <th>code_size</th>\n",
       "      <th>compute_time</th>\n",
       "    </tr>\n",
       "  </thead>\n",
       "  <tbody>\n",
       "    <tr>\n",
       "      <th>0</th>\n",
       "      <td>server</td>\n",
       "      <td>False</td>\n",
       "      <td>False</td>\n",
       "      <td>False</td>\n",
       "      <td>False</td>\n",
       "      <td>82</td>\n",
       "      <td>169</td>\n",
       "    </tr>\n",
       "    <tr>\n",
       "      <th>1</th>\n",
       "      <td>server</td>\n",
       "      <td>False</td>\n",
       "      <td>False</td>\n",
       "      <td>False</td>\n",
       "      <td>True</td>\n",
       "      <td>83</td>\n",
       "      <td>139</td>\n",
       "    </tr>\n",
       "    <tr>\n",
       "      <th>2</th>\n",
       "      <td>server</td>\n",
       "      <td>False</td>\n",
       "      <td>False</td>\n",
       "      <td>True</td>\n",
       "      <td>False</td>\n",
       "      <td>83</td>\n",
       "      <td>135</td>\n",
       "    </tr>\n",
       "    <tr>\n",
       "      <th>3</th>\n",
       "      <td>server</td>\n",
       "      <td>False</td>\n",
       "      <td>False</td>\n",
       "      <td>True</td>\n",
       "      <td>True</td>\n",
       "      <td>83</td>\n",
       "      <td>103</td>\n",
       "    </tr>\n",
       "    <tr>\n",
       "      <th>4</th>\n",
       "      <td>server</td>\n",
       "      <td>False</td>\n",
       "      <td>True</td>\n",
       "      <td>False</td>\n",
       "      <td>False</td>\n",
       "      <td>88</td>\n",
       "      <td>171</td>\n",
       "    </tr>\n",
       "    <tr>\n",
       "      <th>5</th>\n",
       "      <td>server</td>\n",
       "      <td>False</td>\n",
       "      <td>True</td>\n",
       "      <td>False</td>\n",
       "      <td>True</td>\n",
       "      <td>88</td>\n",
       "      <td>138</td>\n",
       "    </tr>\n",
       "    <tr>\n",
       "      <th>6</th>\n",
       "      <td>server</td>\n",
       "      <td>False</td>\n",
       "      <td>True</td>\n",
       "      <td>True</td>\n",
       "      <td>False</td>\n",
       "      <td>87</td>\n",
       "      <td>134</td>\n",
       "    </tr>\n",
       "    <tr>\n",
       "      <th>7</th>\n",
       "      <td>server</td>\n",
       "      <td>False</td>\n",
       "      <td>True</td>\n",
       "      <td>True</td>\n",
       "      <td>True</td>\n",
       "      <td>88</td>\n",
       "      <td>103</td>\n",
       "    </tr>\n",
       "    <tr>\n",
       "      <th>8</th>\n",
       "      <td>server</td>\n",
       "      <td>True</td>\n",
       "      <td>False</td>\n",
       "      <td>False</td>\n",
       "      <td>False</td>\n",
       "      <td>81</td>\n",
       "      <td>169</td>\n",
       "    </tr>\n",
       "    <tr>\n",
       "      <th>9</th>\n",
       "      <td>server</td>\n",
       "      <td>True</td>\n",
       "      <td>False</td>\n",
       "      <td>False</td>\n",
       "      <td>True</td>\n",
       "      <td>82</td>\n",
       "      <td>139</td>\n",
       "    </tr>\n",
       "    <tr>\n",
       "      <th>10</th>\n",
       "      <td>server</td>\n",
       "      <td>True</td>\n",
       "      <td>False</td>\n",
       "      <td>True</td>\n",
       "      <td>False</td>\n",
       "      <td>82</td>\n",
       "      <td>134</td>\n",
       "    </tr>\n",
       "    <tr>\n",
       "      <th>11</th>\n",
       "      <td>server</td>\n",
       "      <td>True</td>\n",
       "      <td>False</td>\n",
       "      <td>True</td>\n",
       "      <td>True</td>\n",
       "      <td>82</td>\n",
       "      <td>103</td>\n",
       "    </tr>\n",
       "    <tr>\n",
       "      <th>12</th>\n",
       "      <td>server</td>\n",
       "      <td>True</td>\n",
       "      <td>True</td>\n",
       "      <td>False</td>\n",
       "      <td>False</td>\n",
       "      <td>86</td>\n",
       "      <td>171</td>\n",
       "    </tr>\n",
       "    <tr>\n",
       "      <th>13</th>\n",
       "      <td>server</td>\n",
       "      <td>True</td>\n",
       "      <td>True</td>\n",
       "      <td>False</td>\n",
       "      <td>True</td>\n",
       "      <td>87</td>\n",
       "      <td>139</td>\n",
       "    </tr>\n",
       "    <tr>\n",
       "      <th>14</th>\n",
       "      <td>server</td>\n",
       "      <td>True</td>\n",
       "      <td>True</td>\n",
       "      <td>True</td>\n",
       "      <td>False</td>\n",
       "      <td>87</td>\n",
       "      <td>135</td>\n",
       "    </tr>\n",
       "    <tr>\n",
       "      <th>15</th>\n",
       "      <td>server</td>\n",
       "      <td>True</td>\n",
       "      <td>True</td>\n",
       "      <td>True</td>\n",
       "      <td>True</td>\n",
       "      <td>87</td>\n",
       "      <td>102</td>\n",
       "    </tr>\n",
       "    <tr>\n",
       "      <th>16</th>\n",
       "      <td>release</td>\n",
       "      <td>False</td>\n",
       "      <td>False</td>\n",
       "      <td>False</td>\n",
       "      <td>False</td>\n",
       "      <td>131</td>\n",
       "      <td>148</td>\n",
       "    </tr>\n",
       "    <tr>\n",
       "      <th>17</th>\n",
       "      <td>release</td>\n",
       "      <td>False</td>\n",
       "      <td>False</td>\n",
       "      <td>False</td>\n",
       "      <td>True</td>\n",
       "      <td>136</td>\n",
       "      <td>121</td>\n",
       "    </tr>\n",
       "    <tr>\n",
       "      <th>18</th>\n",
       "      <td>release</td>\n",
       "      <td>False</td>\n",
       "      <td>False</td>\n",
       "      <td>True</td>\n",
       "      <td>False</td>\n",
       "      <td>131</td>\n",
       "      <td>117</td>\n",
       "    </tr>\n",
       "    <tr>\n",
       "      <th>19</th>\n",
       "      <td>release</td>\n",
       "      <td>False</td>\n",
       "      <td>False</td>\n",
       "      <td>True</td>\n",
       "      <td>True</td>\n",
       "      <td>137</td>\n",
       "      <td>89</td>\n",
       "    </tr>\n",
       "    <tr>\n",
       "      <th>20</th>\n",
       "      <td>release</td>\n",
       "      <td>False</td>\n",
       "      <td>True</td>\n",
       "      <td>False</td>\n",
       "      <td>False</td>\n",
       "      <td>138</td>\n",
       "      <td>148</td>\n",
       "    </tr>\n",
       "    <tr>\n",
       "      <th>21</th>\n",
       "      <td>release</td>\n",
       "      <td>False</td>\n",
       "      <td>True</td>\n",
       "      <td>False</td>\n",
       "      <td>True</td>\n",
       "      <td>141</td>\n",
       "      <td>118</td>\n",
       "    </tr>\n",
       "    <tr>\n",
       "      <th>22</th>\n",
       "      <td>release</td>\n",
       "      <td>False</td>\n",
       "      <td>True</td>\n",
       "      <td>True</td>\n",
       "      <td>False</td>\n",
       "      <td>138</td>\n",
       "      <td>117</td>\n",
       "    </tr>\n",
       "    <tr>\n",
       "      <th>23</th>\n",
       "      <td>release</td>\n",
       "      <td>False</td>\n",
       "      <td>True</td>\n",
       "      <td>True</td>\n",
       "      <td>True</td>\n",
       "      <td>141</td>\n",
       "      <td>89</td>\n",
       "    </tr>\n",
       "    <tr>\n",
       "      <th>24</th>\n",
       "      <td>release</td>\n",
       "      <td>True</td>\n",
       "      <td>False</td>\n",
       "      <td>False</td>\n",
       "      <td>False</td>\n",
       "      <td>130</td>\n",
       "      <td>145</td>\n",
       "    </tr>\n",
       "    <tr>\n",
       "      <th>25</th>\n",
       "      <td>release</td>\n",
       "      <td>True</td>\n",
       "      <td>False</td>\n",
       "      <td>False</td>\n",
       "      <td>True</td>\n",
       "      <td>135</td>\n",
       "      <td>119</td>\n",
       "    </tr>\n",
       "    <tr>\n",
       "      <th>26</th>\n",
       "      <td>release</td>\n",
       "      <td>True</td>\n",
       "      <td>False</td>\n",
       "      <td>True</td>\n",
       "      <td>False</td>\n",
       "      <td>131</td>\n",
       "      <td>115</td>\n",
       "    </tr>\n",
       "    <tr>\n",
       "      <th>27</th>\n",
       "      <td>release</td>\n",
       "      <td>True</td>\n",
       "      <td>False</td>\n",
       "      <td>True</td>\n",
       "      <td>True</td>\n",
       "      <td>136</td>\n",
       "      <td>88</td>\n",
       "    </tr>\n",
       "    <tr>\n",
       "      <th>28</th>\n",
       "      <td>release</td>\n",
       "      <td>True</td>\n",
       "      <td>True</td>\n",
       "      <td>False</td>\n",
       "      <td>False</td>\n",
       "      <td>137</td>\n",
       "      <td>146</td>\n",
       "    </tr>\n",
       "    <tr>\n",
       "      <th>29</th>\n",
       "      <td>release</td>\n",
       "      <td>True</td>\n",
       "      <td>True</td>\n",
       "      <td>False</td>\n",
       "      <td>True</td>\n",
       "      <td>140</td>\n",
       "      <td>120</td>\n",
       "    </tr>\n",
       "    <tr>\n",
       "      <th>30</th>\n",
       "      <td>release</td>\n",
       "      <td>True</td>\n",
       "      <td>True</td>\n",
       "      <td>True</td>\n",
       "      <td>False</td>\n",
       "      <td>137</td>\n",
       "      <td>117</td>\n",
       "    </tr>\n",
       "    <tr>\n",
       "      <th>31</th>\n",
       "      <td>release</td>\n",
       "      <td>True</td>\n",
       "      <td>True</td>\n",
       "      <td>True</td>\n",
       "      <td>True</td>\n",
       "      <td>141</td>\n",
       "      <td>89</td>\n",
       "    </tr>\n",
       "  </tbody>\n",
       "</table>\n",
       "</div>"
      ],
      "text/plain": [
       "    profile  static_ssid  strong  implicit  partial  code_size  compute_time\n",
       "0    server        False   False     False    False         82           169\n",
       "1    server        False   False     False     True         83           139\n",
       "2    server        False   False      True    False         83           135\n",
       "3    server        False   False      True     True         83           103\n",
       "4    server        False    True     False    False         88           171\n",
       "5    server        False    True     False     True         88           138\n",
       "6    server        False    True      True    False         87           134\n",
       "7    server        False    True      True     True         88           103\n",
       "8    server         True   False     False    False         81           169\n",
       "9    server         True   False     False     True         82           139\n",
       "10   server         True   False      True    False         82           134\n",
       "11   server         True   False      True     True         82           103\n",
       "12   server         True    True     False    False         86           171\n",
       "13   server         True    True     False     True         87           139\n",
       "14   server         True    True      True    False         87           135\n",
       "15   server         True    True      True     True         87           102\n",
       "16  release        False   False     False    False        131           148\n",
       "17  release        False   False     False     True        136           121\n",
       "18  release        False   False      True    False        131           117\n",
       "19  release        False   False      True     True        137            89\n",
       "20  release        False    True     False    False        138           148\n",
       "21  release        False    True     False     True        141           118\n",
       "22  release        False    True      True    False        138           117\n",
       "23  release        False    True      True     True        141            89\n",
       "24  release         True   False     False    False        130           145\n",
       "25  release         True   False     False     True        135           119\n",
       "26  release         True   False      True    False        131           115\n",
       "27  release         True   False      True     True        136            88\n",
       "28  release         True    True     False    False        137           146\n",
       "29  release         True    True     False     True        140           120\n",
       "30  release         True    True      True    False        137           117\n",
       "31  release         True    True      True     True        141            89"
      ]
     },
     "execution_count": 2,
     "metadata": {},
     "output_type": "execute_result"
    }
   ],
   "source": [
    "df = pd.read_csv(\"./benchmark_data.csv\")\n",
    "df"
   ]
  },
  {
   "cell_type": "code",
   "execution_count": 12,
   "id": "7f3d328f",
   "metadata": {},
   "outputs": [
    {
     "data": {
      "text/plain": [
       "(    profile  static_ssid  strong  implicit  partial  code_size  compute_time\n",
       " 16  release        False   False     False    False        131           148\n",
       " 17  release        False   False     False     True        136           121\n",
       " 18  release        False   False      True    False        131           117\n",
       " 19  release        False   False      True     True        137            89\n",
       " 20  release        False    True     False    False        138           148\n",
       " 21  release        False    True     False     True        141           118\n",
       " 22  release        False    True      True    False        138           117\n",
       " 23  release        False    True      True     True        141            89\n",
       " 24  release         True   False     False    False        130           145\n",
       " 25  release         True   False     False     True        135           119\n",
       " 26  release         True   False      True    False        131           115\n",
       " 27  release         True   False      True     True        136            88\n",
       " 28  release         True    True     False    False        137           146\n",
       " 29  release         True    True     False     True        140           120\n",
       " 30  release         True    True      True    False        137           117\n",
       " 31  release         True    True      True     True        141            89,\n",
       "    profile  static_ssid  strong  implicit  partial  code_size  compute_time\n",
       " 0   server        False   False     False    False         82           169\n",
       " 1   server        False   False     False     True         83           139\n",
       " 2   server        False   False      True    False         83           135\n",
       " 3   server        False   False      True     True         83           103\n",
       " 4   server        False    True     False    False         88           171\n",
       " 5   server        False    True     False     True         88           138\n",
       " 6   server        False    True      True    False         87           134\n",
       " 7   server        False    True      True     True         88           103\n",
       " 8   server         True   False     False    False         81           169\n",
       " 9   server         True   False     False     True         82           139\n",
       " 10  server         True   False      True    False         82           134\n",
       " 11  server         True   False      True     True         82           103\n",
       " 12  server         True    True     False    False         86           171\n",
       " 13  server         True    True     False     True         87           139\n",
       " 14  server         True    True      True    False         87           135\n",
       " 15  server         True    True      True     True         87           102)"
      ]
     },
     "execution_count": 12,
     "metadata": {},
     "output_type": "execute_result"
    }
   ],
   "source": [
    "rel_df = df[df.profile == \"release\"]\n",
    "ser_df = df[df.profile == \"server\"]\n",
    "\n",
    "rel_df, ser_df"
   ]
  },
  {
   "cell_type": "code",
   "execution_count": 21,
   "id": "4d92d18a",
   "metadata": {},
   "outputs": [
    {
     "data": {
      "text/plain": [
       "51.5"
      ]
     },
     "execution_count": 21,
     "metadata": {},
     "output_type": "execute_result"
    }
   ],
   "source": [
    "# average code size difference between release mode and server mode\n",
    "code_sz_diffs = [r-s for (r, s) in zip(rel_df.code_size, ser_df.code_size)]\n",
    "sum(code_sz_diffs) / len(code_sz_diffs)"
   ]
  },
  {
   "cell_type": "code",
   "execution_count": 26,
   "id": "90245fe3",
   "metadata": {},
   "outputs": [
    {
     "data": {
      "text/plain": [
       "-18.625"
      ]
     },
     "execution_count": 26,
     "metadata": {},
     "output_type": "execute_result"
    }
   ],
   "source": [
    "# average compute time difference between release mode and server mode\n",
    "comp_t_diffs = [r-s for (r, s) in zip(rel_df.compute_time, ser_df.compute_time)]\n",
    "sum(comp_t_diffs) / len(comp_t_diffs)"
   ]
  },
  {
   "cell_type": "code",
   "execution_count": 28,
   "id": "13cdc1da",
   "metadata": {},
   "outputs": [],
   "source": [
    "def compute_size_and_time_diffs(df, feature, comp_val=True):\n",
    "    df_a = df[df[feature] == comp_val]\n",
    "    df_b = df[df[feature] != comp_val]\n",
    "    code_sz_diffs = [r-s for (r, s) in zip(df_a.code_size, df_b.code_size)]\n",
    "    sz_diff = sum(code_sz_diffs) / len(code_sz_diffs)\n",
    "    comp_t_diffs = [r-s for (r, s) in zip(df_a.compute_time, df_b.compute_time)]\n",
    "    ct_diff = sum(comp_t_diffs) / len(comp_t_diffs)\n",
    "    return sz_diff, ct_diff"
   ]
  },
  {
   "cell_type": "code",
   "execution_count": 31,
   "id": "5e255b41",
   "metadata": {},
   "outputs": [
    {
     "data": {
      "text/plain": [
       "(51.5, -18.625)"
      ]
     },
     "execution_count": 31,
     "metadata": {},
     "output_type": "execute_result"
    }
   ],
   "source": [
    "compute_size_and_time_diffs(df, \"profile\", \"release\")"
   ]
  },
  {
   "cell_type": "code",
   "execution_count": 32,
   "id": "15505359",
   "metadata": {},
   "outputs": [
    {
     "data": {
      "text/plain": [
       "(2.375, -29.5)"
      ]
     },
     "execution_count": 32,
     "metadata": {},
     "output_type": "execute_result"
    }
   ],
   "source": [
    "compute_size_and_time_diffs(df, \"partial\")"
   ]
  },
  {
   "cell_type": "code",
   "execution_count": 33,
   "id": "fc6849fe",
   "metadata": {},
   "outputs": [
    {
     "data": {
      "text/plain": [
       "(0.375, -33.125)"
      ]
     },
     "execution_count": 33,
     "metadata": {},
     "output_type": "execute_result"
    }
   ],
   "source": [
    "compute_size_and_time_diffs(df, \"implicit\")"
   ]
  },
  {
   "cell_type": "code",
   "execution_count": 35,
   "id": "49c04c30",
   "metadata": {},
   "outputs": [
    {
     "data": {
      "text/plain": [
       "(5.375, 0.25)"
      ]
     },
     "execution_count": 35,
     "metadata": {},
     "output_type": "execute_result"
    }
   ],
   "source": [
    "compute_size_and_time_diffs(df, \"strong\")"
   ]
  },
  {
   "cell_type": "code",
   "execution_count": 36,
   "id": "d8d356e8",
   "metadata": {
    "scrolled": true
   },
   "outputs": [
    {
     "data": {
      "text/plain": [
       "(-0.875, -0.5)"
      ]
     },
     "execution_count": 36,
     "metadata": {},
     "output_type": "execute_result"
    }
   ],
   "source": [
    "compute_size_and_time_diffs(df, \"static_ssid\")"
   ]
  },
  {
   "cell_type": "code",
   "execution_count": 53,
   "id": "d1be24f9",
   "metadata": {},
   "outputs": [
    {
     "name": "stderr",
     "output_type": "stream",
     "text": [
      "The PostScript backend does not support transparency; partially transparent artists will be rendered opaque.\n"
     ]
    },
    {
     "data": {
      "image/png": "[encoded data removed]",
      "text/plain": [
       "<Figure size 640x480 with 1 Axes>"
      ]
     },
     "metadata": {},
     "output_type": "display_data"
    }
   ],
   "source": [
    "# graph the change in code size and compute time by feature flag\n",
    "# adapted from https://matplotlib.org/stable/gallery/lines_bars_and_markers/barchart.html\n",
    "# accessed 14/04/2023\n",
    "\n",
    "# first setup the data\n",
    "variables = [\"profile\", \"partial\", \"implicit\", \"strong\", \"static_ssid\"]\n",
    "measurables = [\"Size diff (Kib)\", \"Time diff (ms)\"]\n",
    "comp_values = {\"profile\": \"release\"}\n",
    "diffs = {\n",
    "    v: dict(zip(measurables, compute_size_and_time_diffs(df, v, comp_values.get(v, True))))\n",
    "    for v in variables\n",
    "}\n",
    "data = {\n",
    "    t: tuple(diffs[v][t] for v in variables)\n",
    "    for t in measurables\n",
    "}\n",
    "\n",
    "# now setup the graph stuff\n",
    "x = np.arange(len(variables))\n",
    "width = 0.25\n",
    "multiplier = 0\n",
    "\n",
    "fig, ax = plt.subplots(layout=\"constrained\")\n",
    "\n",
    "for attribute, measurement in data.items():\n",
    "    offset = width * multiplier\n",
    "    rects = ax.bar(x + offset, measurement, width, label=attribute)\n",
    "    ax.bar_label(rects, padding=3)\n",
    "    multiplier += 1\n",
    "    \n",
    "ax.set_ylabel('Mean Difference')\n",
    "ax.set_title('Effect of features of Code Size and Compute Time')\n",
    "ax.set_xticks(x + width, [\"release mode\"] + variables[1:])\n",
    "ax.legend(loc='upper right', ncols=3)\n",
    "ax.set_facecolor(\"#f3f3f3\")\n",
    "ax.set_ylim(-40, 60)\n",
    "\n",
    "# plt.savefig(\"/home/tritoke/feature_effects.eps\")\n",
    "plt.show()"
   ]
  }
 ],
 "metadata": {
  "kernelspec": {
   "display_name": "Python 3 (ipykernel)",
   "language": "python",
   "name": "python3"
  },
  "language_info": {
   "codemirror_mode": {
    "name": "ipython",
    "version": 3
   },
   "file_extension": ".py",
   "mimetype": "text/x-python",
   "name": "python",
   "nbconvert_exporter": "python",
   "pygments_lexer": "ipython3",
   "version": "3.10.10"
  }
 },
 "nbformat": 4,
 "nbformat_minor": 5
}
