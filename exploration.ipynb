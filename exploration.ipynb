{
 "cells": [
  {
   "cell_type": "code",
   "execution_count": 3,
   "id": "499acb9a",
   "metadata": {},
   "outputs": [],
   "source": [
    "import numpy as np\n",
    "import pandas as pd\n",
    "import matplotlib.pyplot as plt"
   ]
  },
  {
   "cell_type": "code",
   "execution_count": 4,
   "id": "ea9ad864",
   "metadata": {},
   "outputs": [
    {
     "data": {
      "text/html": [
       "<div>\n",
       "<style scoped>\n",
       "    .dataframe tbody tr th:only-of-type {\n",
       "        vertical-align: middle;\n",
       "    }\n",
       "\n",
       "    .dataframe tbody tr th {\n",
       "        vertical-align: top;\n",
       "    }\n",
       "\n",
       "    .dataframe thead th {\n",
       "        text-align: right;\n",
       "    }\n",
       "</style>\n",
       "<table border=\"1\" class=\"dataframe\">\n",
       "  <thead>\n",
       "    <tr style=\"text-align: right;\">\n",
       "      <th></th>\n",
       "      <th>release</th>\n",
       "      <th>static_ssid</th>\n",
       "      <th>strong</th>\n",
       "      <th>implicit</th>\n",
       "      <th>partial</th>\n",
       "      <th>code_size</th>\n",
       "      <th>compute_time</th>\n",
       "      <th>data_sent</th>\n",
       "    </tr>\n",
       "  </thead>\n",
       "  <tbody>\n",
       "    <tr>\n",
       "      <th>0</th>\n",
       "      <td>False</td>\n",
       "      <td>False</td>\n",
       "      <td>False</td>\n",
       "      <td>False</td>\n",
       "      <td>False</td>\n",
       "      <td>82</td>\n",
       "      <td>171</td>\n",
       "      <td>342</td>\n",
       "    </tr>\n",
       "    <tr>\n",
       "      <th>1</th>\n",
       "      <td>False</td>\n",
       "      <td>False</td>\n",
       "      <td>False</td>\n",
       "      <td>False</td>\n",
       "      <td>True</td>\n",
       "      <td>83</td>\n",
       "      <td>139</td>\n",
       "      <td>342</td>\n",
       "    </tr>\n",
       "    <tr>\n",
       "      <th>2</th>\n",
       "      <td>False</td>\n",
       "      <td>False</td>\n",
       "      <td>False</td>\n",
       "      <td>True</td>\n",
       "      <td>False</td>\n",
       "      <td>83</td>\n",
       "      <td>134</td>\n",
       "      <td>206</td>\n",
       "    </tr>\n",
       "    <tr>\n",
       "      <th>3</th>\n",
       "      <td>False</td>\n",
       "      <td>False</td>\n",
       "      <td>False</td>\n",
       "      <td>True</td>\n",
       "      <td>True</td>\n",
       "      <td>83</td>\n",
       "      <td>103</td>\n",
       "      <td>206</td>\n",
       "    </tr>\n",
       "    <tr>\n",
       "      <th>4</th>\n",
       "      <td>False</td>\n",
       "      <td>False</td>\n",
       "      <td>True</td>\n",
       "      <td>False</td>\n",
       "      <td>False</td>\n",
       "      <td>88</td>\n",
       "      <td>171</td>\n",
       "      <td>383</td>\n",
       "    </tr>\n",
       "    <tr>\n",
       "      <th>5</th>\n",
       "      <td>False</td>\n",
       "      <td>False</td>\n",
       "      <td>True</td>\n",
       "      <td>False</td>\n",
       "      <td>True</td>\n",
       "      <td>88</td>\n",
       "      <td>139</td>\n",
       "      <td>383</td>\n",
       "    </tr>\n",
       "    <tr>\n",
       "      <th>6</th>\n",
       "      <td>False</td>\n",
       "      <td>False</td>\n",
       "      <td>True</td>\n",
       "      <td>True</td>\n",
       "      <td>False</td>\n",
       "      <td>87</td>\n",
       "      <td>135</td>\n",
       "      <td>247</td>\n",
       "    </tr>\n",
       "    <tr>\n",
       "      <th>7</th>\n",
       "      <td>False</td>\n",
       "      <td>False</td>\n",
       "      <td>True</td>\n",
       "      <td>True</td>\n",
       "      <td>True</td>\n",
       "      <td>88</td>\n",
       "      <td>103</td>\n",
       "      <td>247</td>\n",
       "    </tr>\n",
       "    <tr>\n",
       "      <th>8</th>\n",
       "      <td>False</td>\n",
       "      <td>True</td>\n",
       "      <td>False</td>\n",
       "      <td>False</td>\n",
       "      <td>False</td>\n",
       "      <td>81</td>\n",
       "      <td>171</td>\n",
       "      <td>302</td>\n",
       "    </tr>\n",
       "    <tr>\n",
       "      <th>9</th>\n",
       "      <td>False</td>\n",
       "      <td>True</td>\n",
       "      <td>False</td>\n",
       "      <td>False</td>\n",
       "      <td>True</td>\n",
       "      <td>82</td>\n",
       "      <td>139</td>\n",
       "      <td>302</td>\n",
       "    </tr>\n",
       "    <tr>\n",
       "      <th>10</th>\n",
       "      <td>False</td>\n",
       "      <td>True</td>\n",
       "      <td>False</td>\n",
       "      <td>True</td>\n",
       "      <td>False</td>\n",
       "      <td>82</td>\n",
       "      <td>135</td>\n",
       "      <td>166</td>\n",
       "    </tr>\n",
       "    <tr>\n",
       "      <th>11</th>\n",
       "      <td>False</td>\n",
       "      <td>True</td>\n",
       "      <td>False</td>\n",
       "      <td>True</td>\n",
       "      <td>True</td>\n",
       "      <td>82</td>\n",
       "      <td>103</td>\n",
       "      <td>166</td>\n",
       "    </tr>\n",
       "    <tr>\n",
       "      <th>12</th>\n",
       "      <td>False</td>\n",
       "      <td>True</td>\n",
       "      <td>True</td>\n",
       "      <td>False</td>\n",
       "      <td>False</td>\n",
       "      <td>86</td>\n",
       "      <td>170</td>\n",
       "      <td>343</td>\n",
       "    </tr>\n",
       "    <tr>\n",
       "      <th>13</th>\n",
       "      <td>False</td>\n",
       "      <td>True</td>\n",
       "      <td>True</td>\n",
       "      <td>False</td>\n",
       "      <td>True</td>\n",
       "      <td>87</td>\n",
       "      <td>138</td>\n",
       "      <td>343</td>\n",
       "    </tr>\n",
       "    <tr>\n",
       "      <th>14</th>\n",
       "      <td>False</td>\n",
       "      <td>True</td>\n",
       "      <td>True</td>\n",
       "      <td>True</td>\n",
       "      <td>False</td>\n",
       "      <td>87</td>\n",
       "      <td>135</td>\n",
       "      <td>207</td>\n",
       "    </tr>\n",
       "    <tr>\n",
       "      <th>15</th>\n",
       "      <td>False</td>\n",
       "      <td>True</td>\n",
       "      <td>True</td>\n",
       "      <td>True</td>\n",
       "      <td>True</td>\n",
       "      <td>87</td>\n",
       "      <td>103</td>\n",
       "      <td>207</td>\n",
       "    </tr>\n",
       "    <tr>\n",
       "      <th>16</th>\n",
       "      <td>True</td>\n",
       "      <td>False</td>\n",
       "      <td>False</td>\n",
       "      <td>False</td>\n",
       "      <td>False</td>\n",
       "      <td>132</td>\n",
       "      <td>148</td>\n",
       "      <td>342</td>\n",
       "    </tr>\n",
       "    <tr>\n",
       "      <th>17</th>\n",
       "      <td>True</td>\n",
       "      <td>False</td>\n",
       "      <td>False</td>\n",
       "      <td>False</td>\n",
       "      <td>True</td>\n",
       "      <td>137</td>\n",
       "      <td>119</td>\n",
       "      <td>342</td>\n",
       "    </tr>\n",
       "    <tr>\n",
       "      <th>18</th>\n",
       "      <td>True</td>\n",
       "      <td>False</td>\n",
       "      <td>False</td>\n",
       "      <td>True</td>\n",
       "      <td>False</td>\n",
       "      <td>132</td>\n",
       "      <td>117</td>\n",
       "      <td>206</td>\n",
       "    </tr>\n",
       "    <tr>\n",
       "      <th>19</th>\n",
       "      <td>True</td>\n",
       "      <td>False</td>\n",
       "      <td>False</td>\n",
       "      <td>True</td>\n",
       "      <td>True</td>\n",
       "      <td>138</td>\n",
       "      <td>90</td>\n",
       "      <td>206</td>\n",
       "    </tr>\n",
       "    <tr>\n",
       "      <th>20</th>\n",
       "      <td>True</td>\n",
       "      <td>False</td>\n",
       "      <td>True</td>\n",
       "      <td>False</td>\n",
       "      <td>False</td>\n",
       "      <td>139</td>\n",
       "      <td>148</td>\n",
       "      <td>383</td>\n",
       "    </tr>\n",
       "    <tr>\n",
       "      <th>21</th>\n",
       "      <td>True</td>\n",
       "      <td>False</td>\n",
       "      <td>True</td>\n",
       "      <td>False</td>\n",
       "      <td>True</td>\n",
       "      <td>142</td>\n",
       "      <td>120</td>\n",
       "      <td>383</td>\n",
       "    </tr>\n",
       "    <tr>\n",
       "      <th>22</th>\n",
       "      <td>True</td>\n",
       "      <td>False</td>\n",
       "      <td>True</td>\n",
       "      <td>True</td>\n",
       "      <td>False</td>\n",
       "      <td>139</td>\n",
       "      <td>116</td>\n",
       "      <td>247</td>\n",
       "    </tr>\n",
       "    <tr>\n",
       "      <th>23</th>\n",
       "      <td>True</td>\n",
       "      <td>False</td>\n",
       "      <td>True</td>\n",
       "      <td>True</td>\n",
       "      <td>True</td>\n",
       "      <td>142</td>\n",
       "      <td>89</td>\n",
       "      <td>247</td>\n",
       "    </tr>\n",
       "    <tr>\n",
       "      <th>24</th>\n",
       "      <td>True</td>\n",
       "      <td>True</td>\n",
       "      <td>False</td>\n",
       "      <td>False</td>\n",
       "      <td>False</td>\n",
       "      <td>131</td>\n",
       "      <td>145</td>\n",
       "      <td>302</td>\n",
       "    </tr>\n",
       "    <tr>\n",
       "      <th>25</th>\n",
       "      <td>True</td>\n",
       "      <td>True</td>\n",
       "      <td>False</td>\n",
       "      <td>False</td>\n",
       "      <td>True</td>\n",
       "      <td>136</td>\n",
       "      <td>120</td>\n",
       "      <td>302</td>\n",
       "    </tr>\n",
       "    <tr>\n",
       "      <th>26</th>\n",
       "      <td>True</td>\n",
       "      <td>True</td>\n",
       "      <td>False</td>\n",
       "      <td>True</td>\n",
       "      <td>False</td>\n",
       "      <td>132</td>\n",
       "      <td>115</td>\n",
       "      <td>166</td>\n",
       "    </tr>\n",
       "    <tr>\n",
       "      <th>27</th>\n",
       "      <td>True</td>\n",
       "      <td>True</td>\n",
       "      <td>False</td>\n",
       "      <td>True</td>\n",
       "      <td>True</td>\n",
       "      <td>137</td>\n",
       "      <td>88</td>\n",
       "      <td>166</td>\n",
       "    </tr>\n",
       "    <tr>\n",
       "      <th>28</th>\n",
       "      <td>True</td>\n",
       "      <td>True</td>\n",
       "      <td>True</td>\n",
       "      <td>False</td>\n",
       "      <td>False</td>\n",
       "      <td>138</td>\n",
       "      <td>148</td>\n",
       "      <td>343</td>\n",
       "    </tr>\n",
       "    <tr>\n",
       "      <th>29</th>\n",
       "      <td>True</td>\n",
       "      <td>True</td>\n",
       "      <td>True</td>\n",
       "      <td>False</td>\n",
       "      <td>True</td>\n",
       "      <td>141</td>\n",
       "      <td>120</td>\n",
       "      <td>343</td>\n",
       "    </tr>\n",
       "    <tr>\n",
       "      <th>30</th>\n",
       "      <td>True</td>\n",
       "      <td>True</td>\n",
       "      <td>True</td>\n",
       "      <td>True</td>\n",
       "      <td>False</td>\n",
       "      <td>138</td>\n",
       "      <td>116</td>\n",
       "      <td>207</td>\n",
       "    </tr>\n",
       "    <tr>\n",
       "      <th>31</th>\n",
       "      <td>True</td>\n",
       "      <td>True</td>\n",
       "      <td>True</td>\n",
       "      <td>True</td>\n",
       "      <td>True</td>\n",
       "      <td>142</td>\n",
       "      <td>89</td>\n",
       "      <td>207</td>\n",
       "    </tr>\n",
       "  </tbody>\n",
       "</table>\n",
       "</div>"
      ],
      "text/plain": [
       "    release  static_ssid  strong  implicit  partial  code_size  compute_time  \\\n",
       "0     False        False   False     False    False         82           171   \n",
       "1     False        False   False     False     True         83           139   \n",
       "2     False        False   False      True    False         83           134   \n",
       "3     False        False   False      True     True         83           103   \n",
       "4     False        False    True     False    False         88           171   \n",
       "5     False        False    True     False     True         88           139   \n",
       "6     False        False    True      True    False         87           135   \n",
       "7     False        False    True      True     True         88           103   \n",
       "8     False         True   False     False    False         81           171   \n",
       "9     False         True   False     False     True         82           139   \n",
       "10    False         True   False      True    False         82           135   \n",
       "11    False         True   False      True     True         82           103   \n",
       "12    False         True    True     False    False         86           170   \n",
       "13    False         True    True     False     True         87           138   \n",
       "14    False         True    True      True    False         87           135   \n",
       "15    False         True    True      True     True         87           103   \n",
       "16     True        False   False     False    False        132           148   \n",
       "17     True        False   False     False     True        137           119   \n",
       "18     True        False   False      True    False        132           117   \n",
       "19     True        False   False      True     True        138            90   \n",
       "20     True        False    True     False    False        139           148   \n",
       "21     True        False    True     False     True        142           120   \n",
       "22     True        False    True      True    False        139           116   \n",
       "23     True        False    True      True     True        142            89   \n",
       "24     True         True   False     False    False        131           145   \n",
       "25     True         True   False     False     True        136           120   \n",
       "26     True         True   False      True    False        132           115   \n",
       "27     True         True   False      True     True        137            88   \n",
       "28     True         True    True     False    False        138           148   \n",
       "29     True         True    True     False     True        141           120   \n",
       "30     True         True    True      True    False        138           116   \n",
       "31     True         True    True      True     True        142            89   \n",
       "\n",
       "    data_sent  \n",
       "0         342  \n",
       "1         342  \n",
       "2         206  \n",
       "3         206  \n",
       "4         383  \n",
       "5         383  \n",
       "6         247  \n",
       "7         247  \n",
       "8         302  \n",
       "9         302  \n",
       "10        166  \n",
       "11        166  \n",
       "12        343  \n",
       "13        343  \n",
       "14        207  \n",
       "15        207  \n",
       "16        342  \n",
       "17        342  \n",
       "18        206  \n",
       "19        206  \n",
       "20        383  \n",
       "21        383  \n",
       "22        247  \n",
       "23        247  \n",
       "24        302  \n",
       "25        302  \n",
       "26        166  \n",
       "27        166  \n",
       "28        343  \n",
       "29        343  \n",
       "30        207  \n",
       "31        207  "
      ]
     },
     "execution_count": 4,
     "metadata": {},
     "output_type": "execute_result"
    }
   ],
   "source": [
    "df = pd.read_csv(\"./benchmark_data.csv\")\n",
    "df"
   ]
  },
  {
   "cell_type": "code",
   "execution_count": 5,
   "id": "be9e5918",
   "metadata": {},
   "outputs": [
    {
     "data": {
      "text/html": [
       "<div>\n",
       "<style scoped>\n",
       "    .dataframe tbody tr th:only-of-type {\n",
       "        vertical-align: middle;\n",
       "    }\n",
       "\n",
       "    .dataframe tbody tr th {\n",
       "        vertical-align: top;\n",
       "    }\n",
       "\n",
       "    .dataframe thead th {\n",
       "        text-align: right;\n",
       "    }\n",
       "</style>\n",
       "<table border=\"1\" class=\"dataframe\">\n",
       "  <thead>\n",
       "    <tr style=\"text-align: right;\">\n",
       "      <th></th>\n",
       "      <th>release</th>\n",
       "      <th>static_ssid</th>\n",
       "      <th>strong</th>\n",
       "      <th>implicit</th>\n",
       "      <th>partial</th>\n",
       "      <th>code_size</th>\n",
       "      <th>compute_time</th>\n",
       "      <th>data_sent</th>\n",
       "    </tr>\n",
       "  </thead>\n",
       "  <tbody>\n",
       "    <tr>\n",
       "      <th>0</th>\n",
       "      <td>False</td>\n",
       "      <td>False</td>\n",
       "      <td>False</td>\n",
       "      <td>False</td>\n",
       "      <td>False</td>\n",
       "      <td>82</td>\n",
       "      <td>171</td>\n",
       "      <td>342</td>\n",
       "    </tr>\n",
       "    <tr>\n",
       "      <th>1</th>\n",
       "      <td>False</td>\n",
       "      <td>False</td>\n",
       "      <td>False</td>\n",
       "      <td>False</td>\n",
       "      <td>True</td>\n",
       "      <td>83</td>\n",
       "      <td>139</td>\n",
       "      <td>342</td>\n",
       "    </tr>\n",
       "    <tr>\n",
       "      <th>2</th>\n",
       "      <td>False</td>\n",
       "      <td>False</td>\n",
       "      <td>False</td>\n",
       "      <td>True</td>\n",
       "      <td>False</td>\n",
       "      <td>83</td>\n",
       "      <td>134</td>\n",
       "      <td>206</td>\n",
       "    </tr>\n",
       "    <tr>\n",
       "      <th>3</th>\n",
       "      <td>False</td>\n",
       "      <td>False</td>\n",
       "      <td>False</td>\n",
       "      <td>True</td>\n",
       "      <td>True</td>\n",
       "      <td>83</td>\n",
       "      <td>103</td>\n",
       "      <td>206</td>\n",
       "    </tr>\n",
       "    <tr>\n",
       "      <th>4</th>\n",
       "      <td>False</td>\n",
       "      <td>False</td>\n",
       "      <td>True</td>\n",
       "      <td>False</td>\n",
       "      <td>False</td>\n",
       "      <td>88</td>\n",
       "      <td>171</td>\n",
       "      <td>383</td>\n",
       "    </tr>\n",
       "    <tr>\n",
       "      <th>5</th>\n",
       "      <td>False</td>\n",
       "      <td>False</td>\n",
       "      <td>True</td>\n",
       "      <td>False</td>\n",
       "      <td>True</td>\n",
       "      <td>88</td>\n",
       "      <td>139</td>\n",
       "      <td>383</td>\n",
       "    </tr>\n",
       "    <tr>\n",
       "      <th>6</th>\n",
       "      <td>False</td>\n",
       "      <td>False</td>\n",
       "      <td>True</td>\n",
       "      <td>True</td>\n",
       "      <td>False</td>\n",
       "      <td>87</td>\n",
       "      <td>135</td>\n",
       "      <td>247</td>\n",
       "    </tr>\n",
       "    <tr>\n",
       "      <th>7</th>\n",
       "      <td>False</td>\n",
       "      <td>False</td>\n",
       "      <td>True</td>\n",
       "      <td>True</td>\n",
       "      <td>True</td>\n",
       "      <td>88</td>\n",
       "      <td>103</td>\n",
       "      <td>247</td>\n",
       "    </tr>\n",
       "    <tr>\n",
       "      <th>8</th>\n",
       "      <td>False</td>\n",
       "      <td>True</td>\n",
       "      <td>False</td>\n",
       "      <td>False</td>\n",
       "      <td>False</td>\n",
       "      <td>81</td>\n",
       "      <td>171</td>\n",
       "      <td>302</td>\n",
       "    </tr>\n",
       "    <tr>\n",
       "      <th>9</th>\n",
       "      <td>False</td>\n",
       "      <td>True</td>\n",
       "      <td>False</td>\n",
       "      <td>False</td>\n",
       "      <td>True</td>\n",
       "      <td>82</td>\n",
       "      <td>139</td>\n",
       "      <td>302</td>\n",
       "    </tr>\n",
       "    <tr>\n",
       "      <th>10</th>\n",
       "      <td>False</td>\n",
       "      <td>True</td>\n",
       "      <td>False</td>\n",
       "      <td>True</td>\n",
       "      <td>False</td>\n",
       "      <td>82</td>\n",
       "      <td>135</td>\n",
       "      <td>166</td>\n",
       "    </tr>\n",
       "    <tr>\n",
       "      <th>11</th>\n",
       "      <td>False</td>\n",
       "      <td>True</td>\n",
       "      <td>False</td>\n",
       "      <td>True</td>\n",
       "      <td>True</td>\n",
       "      <td>82</td>\n",
       "      <td>103</td>\n",
       "      <td>166</td>\n",
       "    </tr>\n",
       "    <tr>\n",
       "      <th>12</th>\n",
       "      <td>False</td>\n",
       "      <td>True</td>\n",
       "      <td>True</td>\n",
       "      <td>False</td>\n",
       "      <td>False</td>\n",
       "      <td>86</td>\n",
       "      <td>170</td>\n",
       "      <td>343</td>\n",
       "    </tr>\n",
       "    <tr>\n",
       "      <th>13</th>\n",
       "      <td>False</td>\n",
       "      <td>True</td>\n",
       "      <td>True</td>\n",
       "      <td>False</td>\n",
       "      <td>True</td>\n",
       "      <td>87</td>\n",
       "      <td>138</td>\n",
       "      <td>343</td>\n",
       "    </tr>\n",
       "    <tr>\n",
       "      <th>14</th>\n",
       "      <td>False</td>\n",
       "      <td>True</td>\n",
       "      <td>True</td>\n",
       "      <td>True</td>\n",
       "      <td>False</td>\n",
       "      <td>87</td>\n",
       "      <td>135</td>\n",
       "      <td>207</td>\n",
       "    </tr>\n",
       "    <tr>\n",
       "      <th>15</th>\n",
       "      <td>False</td>\n",
       "      <td>True</td>\n",
       "      <td>True</td>\n",
       "      <td>True</td>\n",
       "      <td>True</td>\n",
       "      <td>87</td>\n",
       "      <td>103</td>\n",
       "      <td>207</td>\n",
       "    </tr>\n",
       "  </tbody>\n",
       "</table>\n",
       "</div>"
      ],
      "text/plain": [
       "    release  static_ssid  strong  implicit  partial  code_size  compute_time  \\\n",
       "0     False        False   False     False    False         82           171   \n",
       "1     False        False   False     False     True         83           139   \n",
       "2     False        False   False      True    False         83           134   \n",
       "3     False        False   False      True     True         83           103   \n",
       "4     False        False    True     False    False         88           171   \n",
       "5     False        False    True     False     True         88           139   \n",
       "6     False        False    True      True    False         87           135   \n",
       "7     False        False    True      True     True         88           103   \n",
       "8     False         True   False     False    False         81           171   \n",
       "9     False         True   False     False     True         82           139   \n",
       "10    False         True   False      True    False         82           135   \n",
       "11    False         True   False      True     True         82           103   \n",
       "12    False         True    True     False    False         86           170   \n",
       "13    False         True    True     False     True         87           138   \n",
       "14    False         True    True      True    False         87           135   \n",
       "15    False         True    True      True     True         87           103   \n",
       "\n",
       "    data_sent  \n",
       "0         342  \n",
       "1         342  \n",
       "2         206  \n",
       "3         206  \n",
       "4         383  \n",
       "5         383  \n",
       "6         247  \n",
       "7         247  \n",
       "8         302  \n",
       "9         302  \n",
       "10        166  \n",
       "11        166  \n",
       "12        343  \n",
       "13        343  \n",
       "14        207  \n",
       "15        207  "
      ]
     },
     "execution_count": 5,
     "metadata": {},
     "output_type": "execute_result"
    }
   ],
   "source": [
    "df[~df.release]"
   ]
  },
  {
   "cell_type": "code",
   "execution_count": 6,
   "id": "7f3d328f",
   "metadata": {},
   "outputs": [
    {
     "data": {
      "text/plain": [
       "(    release  static_ssid  strong  implicit  partial  code_size  compute_time  \\\n",
       " 16     True        False   False     False    False        132           148   \n",
       " 17     True        False   False     False     True        137           119   \n",
       " 18     True        False   False      True    False        132           117   \n",
       " 19     True        False   False      True     True        138            90   \n",
       " 20     True        False    True     False    False        139           148   \n",
       " 21     True        False    True     False     True        142           120   \n",
       " 22     True        False    True      True    False        139           116   \n",
       " 23     True        False    True      True     True        142            89   \n",
       " 24     True         True   False     False    False        131           145   \n",
       " 25     True         True   False     False     True        136           120   \n",
       " 26     True         True   False      True    False        132           115   \n",
       " 27     True         True   False      True     True        137            88   \n",
       " 28     True         True    True     False    False        138           148   \n",
       " 29     True         True    True     False     True        141           120   \n",
       " 30     True         True    True      True    False        138           116   \n",
       " 31     True         True    True      True     True        142            89   \n",
       " \n",
       "     data_sent  \n",
       " 16        342  \n",
       " 17        342  \n",
       " 18        206  \n",
       " 19        206  \n",
       " 20        383  \n",
       " 21        383  \n",
       " 22        247  \n",
       " 23        247  \n",
       " 24        302  \n",
       " 25        302  \n",
       " 26        166  \n",
       " 27        166  \n",
       " 28        343  \n",
       " 29        343  \n",
       " 30        207  \n",
       " 31        207  ,\n",
       "     release  static_ssid  strong  implicit  partial  code_size  compute_time  \\\n",
       " 0     False        False   False     False    False         82           171   \n",
       " 1     False        False   False     False     True         83           139   \n",
       " 2     False        False   False      True    False         83           134   \n",
       " 3     False        False   False      True     True         83           103   \n",
       " 4     False        False    True     False    False         88           171   \n",
       " 5     False        False    True     False     True         88           139   \n",
       " 6     False        False    True      True    False         87           135   \n",
       " 7     False        False    True      True     True         88           103   \n",
       " 8     False         True   False     False    False         81           171   \n",
       " 9     False         True   False     False     True         82           139   \n",
       " 10    False         True   False      True    False         82           135   \n",
       " 11    False         True   False      True     True         82           103   \n",
       " 12    False         True    True     False    False         86           170   \n",
       " 13    False         True    True     False     True         87           138   \n",
       " 14    False         True    True      True    False         87           135   \n",
       " 15    False         True    True      True     True         87           103   \n",
       " \n",
       "     data_sent  \n",
       " 0         342  \n",
       " 1         342  \n",
       " 2         206  \n",
       " 3         206  \n",
       " 4         383  \n",
       " 5         383  \n",
       " 6         247  \n",
       " 7         247  \n",
       " 8         302  \n",
       " 9         302  \n",
       " 10        166  \n",
       " 11        166  \n",
       " 12        343  \n",
       " 13        343  \n",
       " 14        207  \n",
       " 15        207  )"
      ]
     },
     "execution_count": 6,
     "metadata": {},
     "output_type": "execute_result"
    }
   ],
   "source": [
    "rel_df = df[df.release]\n",
    "ser_df = df[~df.release]\n",
    "\n",
    "rel_df, ser_df"
   ]
  },
  {
   "cell_type": "code",
   "execution_count": 7,
   "id": "4d92d18a",
   "metadata": {},
   "outputs": [
    {
     "data": {
      "text/plain": [
       "52.5"
      ]
     },
     "execution_count": 7,
     "metadata": {},
     "output_type": "execute_result"
    }
   ],
   "source": [
    "# average code size difference between release mode and server mode\n",
    "code_sz_diffs = [r-s for (r, s) in zip(rel_df.code_size, ser_df.code_size)]\n",
    "sum(code_sz_diffs) / len(code_sz_diffs)"
   ]
  },
  {
   "cell_type": "code",
   "execution_count": 8,
   "id": "90245fe3",
   "metadata": {},
   "outputs": [
    {
     "data": {
      "text/plain": [
       "-18.8125"
      ]
     },
     "execution_count": 8,
     "metadata": {},
     "output_type": "execute_result"
    }
   ],
   "source": [
    "# average compute time difference between release mode and server mode\n",
    "comp_t_diffs = [r-s for (r, s) in zip(rel_df.compute_time, ser_df.compute_time)]\n",
    "sum(comp_t_diffs) / len(comp_t_diffs)"
   ]
  },
  {
   "cell_type": "code",
   "execution_count": 9,
   "id": "13cdc1da",
   "metadata": {},
   "outputs": [],
   "source": [
    "def compute_diffs(df, feature):\n",
    "    df_a = df[df[feature]]\n",
    "    df_b = df[~df[feature]]\n",
    "    code_sz_diffs = [r-s for (r, s) in zip(df_a.code_size, df_b.code_size)]\n",
    "    sz_diff = sum(code_sz_diffs) / len(code_sz_diffs)\n",
    "    comp_t_diffs = [r-s for (r, s) in zip(df_a.compute_time, df_b.compute_time)]\n",
    "    ct_diff = sum(comp_t_diffs) / len(comp_t_diffs)\n",
    "    data_s_diffs = [r-s for (r, s) in zip(df_a.data_sent, df_b.data_sent)]\n",
    "    ds_diff = sum(data_s_diffs) / len(data_s_diffs)\n",
    "    return sz_diff, ct_diff, ds_diff"
   ]
  },
  {
   "cell_type": "code",
   "execution_count": 10,
   "id": "5e255b41",
   "metadata": {},
   "outputs": [
    {
     "data": {
      "text/plain": [
       "(52.5, -18.8125, 0.0)"
      ]
     },
     "execution_count": 10,
     "metadata": {},
     "output_type": "execute_result"
    }
   ],
   "source": [
    "compute_diffs(df, \"release\")"
   ]
  },
  {
   "cell_type": "code",
   "execution_count": 11,
   "id": "15505359",
   "metadata": {},
   "outputs": [
    {
     "data": {
      "text/plain": [
       "(2.375, -29.5625, 0.0)"
      ]
     },
     "execution_count": 11,
     "metadata": {},
     "output_type": "execute_result"
    }
   ],
   "source": [
    "compute_diffs(df, \"partial\")"
   ]
  },
  {
   "cell_type": "code",
   "execution_count": 13,
   "id": "fc6849fe",
   "metadata": {},
   "outputs": [
    {
     "data": {
      "text/plain": [
       "(0.375, -33.4375, -136.0)"
      ]
     },
     "execution_count": 13,
     "metadata": {},
     "output_type": "execute_result"
    }
   ],
   "source": [
    "compute_diffs(df, \"implicit\")"
   ]
  },
  {
   "cell_type": "code",
   "execution_count": 14,
   "id": "49c04c30",
   "metadata": {},
   "outputs": [
    {
     "data": {
      "text/plain": [
       "(5.375, 0.1875, 41.0)"
      ]
     },
     "execution_count": 14,
     "metadata": {},
     "output_type": "execute_result"
    }
   ],
   "source": [
    "compute_diffs(df, \"strong\")"
   ]
  },
  {
   "cell_type": "code",
   "execution_count": 15,
   "id": "d8d356e8",
   "metadata": {
    "scrolled": true
   },
   "outputs": [
    {
     "data": {
      "text/plain": [
       "(-0.875, -0.4375, -40.0)"
      ]
     },
     "execution_count": 15,
     "metadata": {},
     "output_type": "execute_result"
    }
   ],
   "source": [
    "compute_diffs(df, \"static_ssid\")"
   ]
  },
  {
   "cell_type": "code",
   "execution_count": 17,
   "id": "d1be24f9",
   "metadata": {},
   "outputs": [
    {
     "data": {
      "image/png": "[encoded data removed]",
      "text/plain": [
       "<Figure size 640x480 with 1 Axes>"
      ]
     },
     "metadata": {},
     "output_type": "display_data"
    }
   ],
   "source": [
    "# graph the change in code size and compute time by feature flag\n",
    "# adapted from https://matplotlib.org/stable/gallery/lines_bars_and_markers/barchart.html\n",
    "# accessed 14/04/2023\n",
    "\n",
    "# first setup the data\n",
    "variables = [\"release\", \"partial\", \"implicit\", \"strong\", \"static_ssid\"]\n",
    "measurables = [\"Size diff (Kib)\", \"Time diff (ms)\", \"Data Sent (bytes)\"]\n",
    "diffs = {\n",
    "    v: dict(zip(measurables, compute_diffs(df, v)))\n",
    "    for v in variables\n",
    "}\n",
    "data = {\n",
    "    t: tuple(diffs[v][t] for v in variables)\n",
    "    for t in measurables\n",
    "}\n",
    "\n",
    "# now setup the graph stuff\n",
    "y = np.arange(len(variables))\n",
    "width = 0.25\n",
    "multiplier = 0\n",
    "\n",
    "fig, ax = plt.subplots(layout=\"constrained\")\n",
    "\n",
    "for attribute, measurement in data.items():\n",
    "    offset = width * multiplier\n",
    "    rects = ax.barh(y + offset, measurement, width, label=attribute)\n",
    "    ax.bar_label(rects, padding=3)\n",
    "    multiplier += 1\n",
    "    \n",
    "# ax.set_ylabel('Mean Difference')\n",
    "ax.set_title('Effect of features of Code Size and Compute Time')\n",
    "ax.set_yticks(y + width, variables)\n",
    "ax.legend(loc='upper left')\n",
    "ax.set_facecolor(\"#f3f3f3\")\n",
    "ax.set_xlim(-155, 70)\n",
    "\n",
    "# plt.savefig(\"/home/tritoke/feature_effects.eps\")\n",
    "plt.show()"
   ]
  },
  {
   "cell_type": "code",
   "execution_count": 52,
   "id": "de75f5ff",
   "metadata": {},
   "outputs": [],
   "source": [
    "def compute_perc_diffs(df, feature):\n",
    "    df_a = df[df[feature]]\n",
    "    df_b = df[~df[feature]]\n",
    "    code_sz_diffs = [100 * (r-s)/s for (r, s) in zip(df_a.code_size, df_b.code_size)]\n",
    "    sz_diff = sum(code_sz_diffs) / len(code_sz_diffs), min(code_sz_diffs), max(code_sz_diffs)\n",
    "    comp_t_diffs = [100 * (r-s)/s for (r, s) in zip(df_a.compute_time, df_b.compute_time)]\n",
    "    ct_diff = sum(comp_t_diffs) / len(comp_t_diffs), min(comp_t_diffs), max(comp_t_diffs)\n",
    "    data_s_diffs = [100 * (r-s)/s for (r, s) in zip(df_a.data_sent, df_b.data_sent)]\n",
    "    ds_diff = sum(data_s_diffs) / len(data_s_diffs), min(data_s_diffs), max(data_s_diffs)\n",
    "    return sz_diff, ct_diff, ds_diff"
   ]
  },
  {
   "cell_type": "code",
   "execution_count": 53,
   "id": "fd6bb6e1",
   "metadata": {},
   "outputs": [
    {
     "data": {
      "text/plain": [
       "((-0.8584149556820144, -2.272727272727273, 0.0),\n",
       " (-0.354766621846865, -2.2222222222222223, 0.8403361344537815),\n",
       " (-14.43789459361864, -19.41747572815534, -10.443864229765014))"
      ]
     },
     "execution_count": 53,
     "metadata": {},
     "output_type": "execute_result"
    }
   ],
   "source": [
    "compute_perc_diffs(df, \"static_ssid\")"
   ]
  },
  {
   "cell_type": "code",
   "execution_count": 64,
   "id": "1c285048",
   "metadata": {},
   "outputs": [
    {
     "name": "stderr",
     "output_type": "stream",
     "text": [
      "The PostScript backend does not support transparency; partially transparent artists will be rendered opaque.\n"
     ]
    },
    {
     "data": {
      "image/png": "[encoded data removed]",
      "text/plain": [
       "<Figure size 640x480 with 1 Axes>"
      ]
     },
     "metadata": {},
     "output_type": "display_data"
    }
   ],
   "source": [
    "# graph the change in code size and compute time by feature flag\n",
    "# adapted from https://matplotlib.org/stable/gallery/lines_bars_and_markers/barchart.html\n",
    "# accessed 14/04/2023\n",
    "\n",
    "# first setup the data\n",
    "variables = [\"release\", \"partial\", \"implicit\", \"strong\", \"static_ssid\"]\n",
    "measurables = [\"Size diff (Kib)\", \"Time diff (ms)\", \"Data Sent (bytes)\"]\n",
    "diffs = {\n",
    "    v: dict(zip(measurables, compute_perc_diffs(df, v)))\n",
    "    for v in variables\n",
    "}\n",
    "data = {\n",
    "    t: tuple(diffs[v][t] for v in variables)\n",
    "    for t in measurables\n",
    "}\n",
    "\n",
    "# now setup the graph stuff\n",
    "y = np.arange(len(variables))\n",
    "width = 0.25\n",
    "multiplier = 0\n",
    "\n",
    "fig, ax = plt.subplots(layout=\"constrained\")\n",
    "\n",
    "for attribute, measurements in data.items():\n",
    "    offset = width * multiplier\n",
    "    m = [x[0] for x in measurements]\n",
    "    e = [abs(x[2] - x[1]) / 2 for x in measurements]\n",
    "    rects = ax.barh(y - offset, m, width, xerr=e, label=attribute)\n",
    "    ax.bar_label(rects, padding=3, fmt=\"{:.2f}%\")\n",
    "    multiplier += 1\n",
    "    \n",
    "ax.set_xlabel('Mean Percentage Difference')\n",
    "ax.set_title('Effect of features of Code Size and Compute Time')\n",
    "ax.set_yticks(y - width, variables)\n",
    "ax.legend(loc='upper right')\n",
    "ax.set_facecolor(\"#f3f3f3\")\n",
    "ax.set_xlim(-70, 90)\n",
    "\n",
    "# plt.savefig(\"/home/tritoke/feature_effects.eps\")\n",
    "plt.show()"
   ]
  },
  {
   "cell_type": "code",
   "execution_count": 68,
   "id": "3eeaf4e7",
   "metadata": {},
   "outputs": [
    {
     "data": {
      "text/plain": [
       "137.25"
      ]
     },
     "execution_count": 68,
     "metadata": {},
     "output_type": "execute_result"
    }
   ],
   "source": [
    "df[df.release].code_size.mean()"
   ]
  },
  {
   "cell_type": "code",
   "execution_count": 69,
   "id": "42c2f48f",
   "metadata": {},
   "outputs": [
    {
     "data": {
      "text/plain": [
       "84.75"
      ]
     },
     "execution_count": 69,
     "metadata": {},
     "output_type": "execute_result"
    }
   ],
   "source": [
    "df[~df.release].code_size.mean()"
   ]
  },
  {
   "cell_type": "code",
   "execution_count": 72,
   "id": "721c55e9",
   "metadata": {},
   "outputs": [
    {
     "data": {
      "text/plain": [
       "(118.0, 136.8125)"
      ]
     },
     "execution_count": 72,
     "metadata": {},
     "output_type": "execute_result"
    }
   ],
   "source": [
    "df[df.release].compute_time.mean(), df[~df.release].compute_time.mean()"
   ]
  },
  {
   "cell_type": "code",
   "execution_count": 73,
   "id": "7880d10b",
   "metadata": {},
   "outputs": [
    {
     "data": {
      "text/plain": [
       "(274.5, 274.5)"
      ]
     },
     "execution_count": 73,
     "metadata": {},
     "output_type": "execute_result"
    }
   ],
   "source": [
    "df[df.release].data_sent.mean(), df[~df.release].data_sent.mean()"
   ]
  },
  {
   "cell_type": "code",
   "execution_count": 75,
   "id": "b8a65079",
   "metadata": {},
   "outputs": [
    {
     "data": {
      "text/plain": [
       "171"
      ]
     },
     "execution_count": 75,
     "metadata": {},
     "output_type": "execute_result"
    }
   ],
   "source": [
    "df.compute_time.max()"
   ]
  },
  {
   "cell_type": "code",
   "execution_count": 80,
   "id": "ab26093c",
   "metadata": {},
   "outputs": [
    {
     "data": {
      "text/plain": [
       "166"
      ]
     },
     "execution_count": 80,
     "metadata": {},
     "output_type": "execute_result"
    }
   ],
   "source": [
    "df.data_sent.min()"
   ]
  },
  {
   "cell_type": "code",
   "execution_count": 79,
   "id": "118d6443",
   "metadata": {},
   "outputs": [
    {
     "data": {
      "text/plain": [
       "2.927710843373494"
      ]
     },
     "execution_count": 79,
     "metadata": {},
     "output_type": "execute_result"
    }
   ],
   "source": [
    "486 / df.data_sent.min()"
   ]
  }
 ],
 "metadata": {
  "kernelspec": {
   "display_name": "Python 3 (ipykernel)",
   "language": "python",
   "name": "python3"
  },
  "language_info": {
   "codemirror_mode": {
    "name": "ipython",
    "version": 3
   },
   "file_extension": ".py",
   "mimetype": "text/x-python",
   "name": "python",
   "nbconvert_exporter": "python",
   "pygments_lexer": "ipython3",
   "version": "3.10.10"
  }
 },
 "nbformat": 4,
 "nbformat_minor": 5
}
